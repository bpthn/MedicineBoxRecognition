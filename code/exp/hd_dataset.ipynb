{
 "cells": [
  {
   "cell_type": "code",
   "execution_count": 1,
   "metadata": {},
   "outputs": [],
   "source": [
    "import pandas as pd"
   ]
  },
  {
   "cell_type": "code",
   "execution_count": 4,
   "metadata": {},
   "outputs": [
    {
     "data": {
      "text/html": [
       "<div>\n",
       "<style scoped>\n",
       "    .dataframe tbody tr th:only-of-type {\n",
       "        vertical-align: middle;\n",
       "    }\n",
       "\n",
       "    .dataframe tbody tr th {\n",
       "        vertical-align: top;\n",
       "    }\n",
       "\n",
       "    .dataframe thead th {\n",
       "        text-align: right;\n",
       "    }\n",
       "</style>\n",
       "<table border=\"1\" class=\"dataframe\">\n",
       "  <thead>\n",
       "    <tr style=\"text-align: right;\">\n",
       "      <th></th>\n",
       "      <th>Image</th>\n",
       "      <th>Category</th>\n",
       "      <th>Subcategory</th>\n",
       "      <th>Med_name</th>\n",
       "      <th>Med_brand</th>\n",
       "    </tr>\n",
       "  </thead>\n",
       "  <tbody>\n",
       "    <tr>\n",
       "      <th>0</th>\n",
       "      <td>image006.jpg</td>\n",
       "      <td>Antihypertensives</td>\n",
       "      <td>Angiotensin II Receptor Blockers (ARBs)</td>\n",
       "      <td>Candesartan</td>\n",
       "      <td>Atacand</td>\n",
       "    </tr>\n",
       "    <tr>\n",
       "      <th>1</th>\n",
       "      <td>image007.jpg</td>\n",
       "      <td>Antihypertensives</td>\n",
       "      <td>Angiotensin II Receptor Blockers (ARBs)</td>\n",
       "      <td>Valsartan</td>\n",
       "      <td>Diovan</td>\n",
       "    </tr>\n",
       "    <tr>\n",
       "      <th>2</th>\n",
       "      <td>image008.jpg</td>\n",
       "      <td>Antihypertensives</td>\n",
       "      <td>Calcium Channel Blockers</td>\n",
       "      <td>Amlodipine</td>\n",
       "      <td>Norvasc</td>\n",
       "    </tr>\n",
       "    <tr>\n",
       "      <th>3</th>\n",
       "      <td>image009.jpg</td>\n",
       "      <td>Antihypertensives</td>\n",
       "      <td>Calcium Channel Blockers</td>\n",
       "      <td>Diltiazem</td>\n",
       "      <td>Cardizem</td>\n",
       "    </tr>\n",
       "    <tr>\n",
       "      <th>4</th>\n",
       "      <td>image010.jpg</td>\n",
       "      <td>Antihypertensives</td>\n",
       "      <td>Beta-Blockers</td>\n",
       "      <td>Metoprolol</td>\n",
       "      <td>Betaloc</td>\n",
       "    </tr>\n",
       "  </tbody>\n",
       "</table>\n",
       "</div>"
      ],
      "text/plain": [
       "          Image           Category                              Subcategory  \\\n",
       "0  image006.jpg  Antihypertensives  Angiotensin II Receptor Blockers (ARBs)   \n",
       "1  image007.jpg  Antihypertensives  Angiotensin II Receptor Blockers (ARBs)   \n",
       "2  image008.jpg  Antihypertensives                 Calcium Channel Blockers   \n",
       "3  image009.jpg  Antihypertensives                 Calcium Channel Blockers   \n",
       "4  image010.jpg  Antihypertensives                            Beta-Blockers   \n",
       "\n",
       "      Med_name Med_brand  \n",
       "0  Candesartan   Atacand  \n",
       "1    Valsartan    Diovan  \n",
       "2   Amlodipine   Norvasc  \n",
       "3    Diltiazem  Cardizem  \n",
       "4   Metoprolol   Betaloc  "
      ]
     },
     "execution_count": 4,
     "metadata": {},
     "output_type": "execute_result"
    }
   ],
   "source": [
    "df = pd.read_csv('../dataset/heartDisease/2509_Medicine name-2.fld/metadata.csv')\n",
    "df.head(5)"
   ]
  },
  {
   "cell_type": "code",
   "execution_count": 9,
   "metadata": {},
   "outputs": [
    {
     "data": {
      "text/plain": [
       "array(['Antihypertensives', 'Anticoagulants', 'Antiplatelet Agents',\n",
       "       'Statins', 'Nitrates', 'Heart Failure Medications\\xa0',\n",
       "       'Antiarrhythmics', 'Combination Medications\\xa0'], dtype=object)"
      ]
     },
     "execution_count": 9,
     "metadata": {},
     "output_type": "execute_result"
    }
   ],
   "source": [
    "df['Category'].unique()"
   ]
  },
  {
   "cell_type": "code",
   "execution_count": 11,
   "metadata": {},
   "outputs": [],
   "source": [
    "df = df.drop('Image', axis=1)\n"
   ]
  },
  {
   "cell_type": "code",
   "execution_count": 13,
   "metadata": {},
   "outputs": [],
   "source": [
    "df = df.drop_duplicates()"
   ]
  },
  {
   "cell_type": "code",
   "execution_count": 30,
   "metadata": {},
   "outputs": [
    {
     "data": {
      "text/plain": [
       "26"
      ]
     },
     "execution_count": 30,
     "metadata": {},
     "output_type": "execute_result"
    }
   ],
   "source": [
    "df['Med_name'].nunique()"
   ]
  },
  {
   "cell_type": "code",
   "execution_count": 28,
   "metadata": {},
   "outputs": [
    {
     "data": {
      "text/html": [
       "<div>\n",
       "<style scoped>\n",
       "    .dataframe tbody tr th:only-of-type {\n",
       "        vertical-align: middle;\n",
       "    }\n",
       "\n",
       "    .dataframe tbody tr th {\n",
       "        vertical-align: top;\n",
       "    }\n",
       "\n",
       "    .dataframe thead th {\n",
       "        text-align: right;\n",
       "    }\n",
       "</style>\n",
       "<table border=\"1\" class=\"dataframe\">\n",
       "  <thead>\n",
       "    <tr style=\"text-align: right;\">\n",
       "      <th></th>\n",
       "      <th>Category</th>\n",
       "      <th>Subcategory</th>\n",
       "      <th>Med_name</th>\n",
       "      <th>Med_brand</th>\n",
       "    </tr>\n",
       "  </thead>\n",
       "  <tbody>\n",
       "    <tr>\n",
       "      <th>22</th>\n",
       "      <td>Statins</td>\n",
       "      <td>NaN</td>\n",
       "      <td>Atorvastatin</td>\n",
       "      <td>Lipitor</td>\n",
       "    </tr>\n",
       "    <tr>\n",
       "      <th>26</th>\n",
       "      <td>Statins</td>\n",
       "      <td>NaN</td>\n",
       "      <td>Rosuvastatin</td>\n",
       "      <td>Crestor</td>\n",
       "    </tr>\n",
       "    <tr>\n",
       "      <th>30</th>\n",
       "      <td>Statins</td>\n",
       "      <td>NaN</td>\n",
       "      <td>Simvastatin</td>\n",
       "      <td>Zocor</td>\n",
       "    </tr>\n",
       "  </tbody>\n",
       "</table>\n",
       "</div>"
      ],
      "text/plain": [
       "   Category Subcategory      Med_name Med_brand\n",
       "22  Statins         NaN  Atorvastatin   Lipitor\n",
       "26  Statins         NaN  Rosuvastatin   Crestor\n",
       "30  Statins         NaN   Simvastatin     Zocor"
      ]
     },
     "execution_count": 28,
     "metadata": {},
     "output_type": "execute_result"
    }
   ],
   "source": [
    "df[df['Category'] == 'Statins']"
   ]
  },
  {
   "cell_type": "code",
   "execution_count": 16,
   "metadata": {},
   "outputs": [
    {
     "data": {
      "text/plain": [
       "(31, 4)"
      ]
     },
     "execution_count": 16,
     "metadata": {},
     "output_type": "execute_result"
    }
   ],
   "source": [
    "df.shape"
   ]
  }
 ],
 "metadata": {
  "kernelspec": {
   "display_name": "Python 3",
   "language": "python",
   "name": "python3"
  },
  "language_info": {
   "codemirror_mode": {
    "name": "ipython",
    "version": 3
   },
   "file_extension": ".py",
   "mimetype": "text/x-python",
   "name": "python",
   "nbconvert_exporter": "python",
   "pygments_lexer": "ipython3",
   "version": "3.9.13"
  }
 },
 "nbformat": 4,
 "nbformat_minor": 2
}
